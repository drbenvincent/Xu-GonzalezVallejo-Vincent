{
 "cells": [
  {
   "cell_type": "markdown",
   "metadata": {},
   "source": [
    "# Parameter estimation\n",
    "Running this notebook will to the parameter estimation for an experiment. Set the `expt` parameter to decide which experiment to analyse."
   ]
  },
  {
   "cell_type": "code",
   "execution_count": null,
   "metadata": {},
   "outputs": [],
   "source": [
    "%load_ext autoreload\n",
    "%autoreload 2"
   ]
  },
  {
   "cell_type": "code",
   "execution_count": null,
   "metadata": {},
   "outputs": [],
   "source": [
    "# data + modelling\n",
    "import numpy as np\n",
    "import numpy.matlib  # for repmat, used in calc_log_loss()\n",
    "import pandas as pd\n",
    "import pymc3 as pm\n",
    "import math\n",
    "import os\n",
    "# from sklearn.metrics import log_loss\n",
    "import random\n",
    "\n",
    "# plotting\n",
    "import seaborn as sns\n",
    "%config InlineBackend.figure_format = 'retina'\n",
    "import matplotlib.pyplot as plt\n",
    "from matplotlib import gridspec\n",
    "plt.rcParams.update({'font.size': 14})\n",
    "\n",
    "#from plotting import plot_data\n",
    "from models import ModifiedRachlinFreeSlope"
   ]
  },
  {
   "cell_type": "markdown",
   "metadata": {},
   "source": [
    "## Set up our options"
   ]
  },
  {
   "cell_type": "code",
   "execution_count": null,
   "metadata": {},
   "outputs": [],
   "source": [
    "# Initialize random number generator\n",
    "SEED = 123\n",
    "np.random.seed(SEED)\n",
    "\n",
    "# Define sampler options\n",
    "sample_options = {'tune': 2000, 'draws': 5000,\n",
    "                  'chains': 4, 'cores': 4,\n",
    "                  'nuts_kwargs': {'target_accept': 0.95},\n",
    "                  'random_seed': SEED}\n",
    "\n",
    "# less ambitious sampling for testing purposes\n",
    "test_sample_options = {'tune': 50, 'draws': 100,\n",
    "                  'chains': 2, 'cores': 2, # 'nuts_kwargs': {'target_accept': 0.95},\n",
    "                  'random_seed': SEED}"
   ]
  },
  {
   "cell_type": "code",
   "execution_count": null,
   "metadata": {},
   "outputs": [],
   "source": [
    "SHOULD_SAVE = False"
   ]
  },
  {
   "cell_type": "code",
   "execution_count": null,
   "metadata": {},
   "outputs": [],
   "source": [
    "out_dir = 'output/'\n",
    "\n",
    "# ensure output folder exists\n",
    "if not os.path.exists(out_dir):\n",
    "    os.makedirs(out_dir)\n",
    "    \n",
    "# ensure subfolders exist\n",
    "for expt in [1, 2]:\n",
    "    desired = f'{out_dir}expt{expt}/'\n",
    "    if not os.path.exists(desired):\n",
    "        os.makedirs(desired)"
   ]
  },
  {
   "cell_type": "markdown",
   "metadata": {},
   "source": [
    "Experiment specific information\n",
    "\n",
    "NOTE: Set the `expt` variable to either 1 or 2 and run the notebook to do parameter estimation for that experiment."
   ]
  },
  {
   "cell_type": "code",
   "execution_count": null,
   "metadata": {},
   "outputs": [],
   "source": [
    "expt = 2\n",
    "data_file = f'raw_data_expt{expt}/EXPERIMENT{expt}DATA.csv'"
   ]
  },
  {
   "cell_type": "markdown",
   "metadata": {},
   "source": [
    "## Import data"
   ]
  },
  {
   "cell_type": "code",
   "execution_count": null,
   "metadata": {},
   "outputs": [],
   "source": [
    "data = pd.read_csv(out_dir + data_file, index_col=False)"
   ]
  },
  {
   "cell_type": "code",
   "execution_count": null,
   "metadata": {},
   "outputs": [],
   "source": [
    "data.head()"
   ]
  },
  {
   "cell_type": "markdown",
   "metadata": {},
   "source": [
    "## Modified Rachlin model (with free slope parameter)"
   ]
  },
  {
   "cell_type": "code",
   "execution_count": null,
   "metadata": {},
   "outputs": [],
   "source": [
    "mr = ModifiedRachlinFreeSlope(data)"
   ]
  },
  {
   "cell_type": "code",
   "execution_count": null,
   "metadata": {},
   "outputs": [],
   "source": [
    "mr.sample_from_posterior(test_sample_options)"
   ]
  },
  {
   "cell_type": "markdown",
   "metadata": {},
   "source": [
    "### Confirm goodness"
   ]
  },
  {
   "cell_type": "code",
   "execution_count": null,
   "metadata": {},
   "outputs": [],
   "source": [
    "pm.energyplot(mr.posterior_samples)"
   ]
  },
  {
   "cell_type": "code",
   "execution_count": null,
   "metadata": {},
   "outputs": [],
   "source": [
    "pm.forestplot(mr.posterior_samples, var_names=['logk'], r_hat=True)"
   ]
  },
  {
   "cell_type": "code",
   "execution_count": null,
   "metadata": {},
   "outputs": [],
   "source": [
    "pm.forestplot(mr.posterior_samples, var_names=['logs'], r_hat=True)"
   ]
  },
  {
   "cell_type": "code",
   "execution_count": null,
   "metadata": {},
   "outputs": [],
   "source": [
    "pm.forestplot(mr.posterior_samples, var_names=['α'], r_hat=True)"
   ]
  },
  {
   "cell_type": "markdown",
   "metadata": {},
   "source": [
    "## Export parameter estimate table\n",
    "First we define some functions to calculate measures derived from the model."
   ]
  },
  {
   "cell_type": "code",
   "execution_count": null,
   "metadata": {},
   "outputs": [],
   "source": [
    "parameter_estimates = mr.calc_results(expt)\n",
    "parameter_estimates"
   ]
  },
  {
   "cell_type": "code",
   "execution_count": null,
   "metadata": {},
   "outputs": [],
   "source": [
    "if SHOULD_SAVE:\n",
    "    parameter_estimates.to_csv(f'analysis/EXPERIMENT_{expt}_RESULTS.csv')"
   ]
  },
  {
   "cell_type": "markdown",
   "metadata": {},
   "source": [
    "## Visualisation"
   ]
  },
  {
   "cell_type": "markdown",
   "metadata": {},
   "source": [
    "## Group level"
   ]
  },
  {
   "cell_type": "code",
   "execution_count": null,
   "metadata": {},
   "outputs": [],
   "source": [
    "pm.forestplot(mr.posterior_samples, var_names=['group_logk', 'group_logs'], r_hat=True)"
   ]
  },
  {
   "cell_type": "markdown",
   "metadata": {},
   "source": [
    "### Visualise posterior predictions for each group"
   ]
  },
  {
   "cell_type": "code",
   "execution_count": null,
   "metadata": {},
   "outputs": [],
   "source": [
    "for group in range(4):\n",
    "    mr.group_plot(group)\n",
    "    if SHOULD_SAVE:\n",
    "        plt.savefig(f'{out_dir}expt{expt}/group{group}.pdf', bbox_inches='tight')"
   ]
  },
  {
   "cell_type": "code",
   "execution_count": null,
   "metadata": {},
   "outputs": [],
   "source": [
    "if expt is 1:\n",
    "    group_name = ['Deferred, low',\n",
    "                  'Online, low',\n",
    "                  'Deferred, high',  \n",
    "                  'Online, high']\n",
    "elif expt is 2:\n",
    "    group_name = ['Deferred, gain',\n",
    "                  'Online, gain',\n",
    "                  'Deferred, loss', \n",
    "                  'Online, loss']"
   ]
  },
  {
   "cell_type": "code",
   "execution_count": null,
   "metadata": {},
   "outputs": [],
   "source": [
    "trace = mr.posterior_samples\n",
    "\n",
    "fig, ax = plt.subplots(1, 1, figsize=(8,8))\n",
    "\n",
    "for i in range(4):\n",
    "    logk = trace['group_logk'][:,i]\n",
    "    logs = trace['group_logs'][:,i]\n",
    "    ax.scatter(logk, logs, alpha=0.1, label=group_name[i])\n",
    "    \n",
    "leg = ax.legend()\n",
    "\n",
    "for lh in leg.legendHandles: \n",
    "    lh.set_alpha(1)\n",
    "    \n",
    "ax.set(xlabel='logk', ylabel='logs', title='parameter space')\n",
    "\n",
    "if SHOULD_SAVE:\n",
    "    plt.savefig(f'{out_dir}expt{expt}/group_param_space.pdf', bbox_inches='tight')"
   ]
  },
  {
   "cell_type": "markdown",
   "metadata": {},
   "source": [
    "## Visualise group mean parameter values"
   ]
  },
  {
   "cell_type": "code",
   "execution_count": null,
   "metadata": {},
   "outputs": [],
   "source": [
    "fig, ax = plt.subplots(1, 1, figsize=(8,8))\n",
    "\n",
    "for i in range(4):\n",
    "    logk = trace['mu_logk'][:,i]\n",
    "    logs = trace['mu_logs'][:,i]\n",
    "    ax.scatter(logk, logs, alpha=0.1, label=group_name[i])\n",
    "    \n",
    "leg = ax.legend()\n",
    "\n",
    "for lh in leg.legendHandles: \n",
    "    lh.set_alpha(1)\n",
    "\n",
    "ax.set(xlabel='logk', ylabel='logs', title=f'Experiment {expt}')\n",
    "\n",
    "if SHOULD_SAVE:\n",
    "    plt.savefig(f'{out_dir}expt{expt}/group_mean_estimates_in_param_space.pdf', bbox_inches='tight')"
   ]
  },
  {
   "cell_type": "markdown",
   "metadata": {},
   "source": [
    "## Participant level plots"
   ]
  },
  {
   "cell_type": "code",
   "execution_count": null,
   "metadata": {},
   "outputs": [],
   "source": [
    "# id=1\n",
    "# pdata = data.loc[data['id'] == id]\n",
    "# pdata['RB'].values[0]"
   ]
  },
  {
   "cell_type": "code",
   "execution_count": null,
   "metadata": {},
   "outputs": [],
   "source": [
    "mr.participant_plot(0)"
   ]
  },
  {
   "cell_type": "markdown",
   "metadata": {},
   "source": [
    "🔥 Export all participant level plots. This takes a while to do. 🔥 "
   ]
  },
  {
   "cell_type": "code",
   "execution_count": null,
   "metadata": {},
   "outputs": [],
   "source": [
    "if SHOULD_SAVE:\n",
    "    for id in range(n_participants):\n",
    "        print(f'{id} of {n_participants}')\n",
    "        mr.participant_plot(id)\n",
    "\n",
    "        savename = f'{out_dir}expt{expt}/id{id}.pdf'\n",
    "        plt.savefig(savename, bbox_inches='tight')\n",
    "\n",
    "        # Close the figure to avoid very heavy plotting inside the notebook\n",
    "        plt.close(plt.gcf())"
   ]
  },
  {
   "cell_type": "markdown",
   "metadata": {},
   "source": [
    "## Demo figure\n",
    "We are going to plot example data + parameter estimates for each condition (row) and a number of randomly chosen participants in each column."
   ]
  },
  {
   "cell_type": "code",
   "execution_count": null,
   "metadata": {},
   "outputs": [],
   "source": [
    "def ids_in_condition(data, condition):\n",
    "    '''Return a list of id's in this condition'''\n",
    "    return data[data['condition'] == condition].id.unique()"
   ]
  },
  {
   "cell_type": "code",
   "execution_count": null,
   "metadata": {},
   "outputs": [],
   "source": [
    "plt.rcParams.update({'font.size': 14})\n",
    "\n",
    "N_EXAMPLES = 3  # number of columns\n",
    "\n",
    "fig, ax = plt.subplots(4, N_EXAMPLES, figsize=(15, 13))\n",
    "\n",
    "# Ording of these is crucial... see the data import notebook for the key\n",
    "if expt is 1:\n",
    "    row_headings = ['Deferred, low',\n",
    "                    'Online, low',\n",
    "                    'Deferred, high',  \n",
    "                    'Online, high']\n",
    "elif expt is 2:\n",
    "    row_headings = ['Deferred, gain',\n",
    "                    'Online, gain',\n",
    "                    'Deferred, loss', \n",
    "                    'Online, loss']\n",
    "                \n",
    "pad = 13 # in points\n",
    "for axis, row_title in zip(ax[:,0], row_headings):\n",
    "    axis.annotate(row_title, xy=(0, 0.5), xytext=(-axis.yaxis.labelpad - pad, 0),\n",
    "                  xycoords=axis.yaxis.label, textcoords='offset points',\n",
    "                  size='large', ha='center', va='center', rotation=90)\n",
    "    \n",
    "fig.tight_layout()\n",
    "\n",
    "# plot stuff\n",
    "for condition in [0, 1, 2, 3]:\n",
    "    \n",
    "    # get 3 participants who took part in this condition\n",
    "    valid_ids = ids_in_condition(data, condition)\n",
    "    ids = np.random.choice(valid_ids, N_EXAMPLES, replace=False)\n",
    "    \n",
    "    \n",
    "    for col, exemplar_id in enumerate(ids):\n",
    "        mr.plot_participant_data_space(ax[condition, col],\n",
    "                                       (trace['logk'][:,exemplar_id], \n",
    "                                        trace['logs'][:,exemplar_id]),\n",
    "                                       exemplar_id)\n",
    "#         plot_data_space(exemplar_id, ax[condition, col], data,\n",
    "#                         trace['logk'][:,exemplar_id], trace['logs'][:,exemplar_id])\n",
    "        \n",
    "fig.tight_layout()\n",
    "\n",
    "# selectively remove x labels\n",
    "for condition in [0, 1, 2]:\n",
    "    for exemplar in [0, 1, 2]:\n",
    "        ax[condition, exemplar].set(xlabel=None)\n",
    "        \n",
    "# selectively remove y labels\n",
    "for condition in [0, 1, 2, 3]:\n",
    "    for exemplar in [1, 2]:\n",
    "        ax[condition, exemplar].set(ylabel=None)\n",
    "        \n",
    "if SHOULD_SAVE:\n",
    "    plt.savefig(f'{out_dir}example_fits_experiment{expt}.pdf', bbox_inches='tight')"
   ]
  },
  {
   "cell_type": "code",
   "execution_count": null,
   "metadata": {},
   "outputs": [],
   "source": []
  },
  {
   "cell_type": "code",
   "execution_count": null,
   "metadata": {},
   "outputs": [],
   "source": []
  },
  {
   "cell_type": "code",
   "execution_count": null,
   "metadata": {},
   "outputs": [],
   "source": []
  },
  {
   "cell_type": "code",
   "execution_count": null,
   "metadata": {},
   "outputs": [],
   "source": []
  },
  {
   "cell_type": "code",
   "execution_count": null,
   "metadata": {},
   "outputs": [],
   "source": []
  }
 ],
 "metadata": {
  "kernelspec": {
   "display_name": "Python 3",
   "language": "python",
   "name": "python3"
  },
  "language_info": {
   "codemirror_mode": {
    "name": "ipython",
    "version": 3
   },
   "file_extension": ".py",
   "mimetype": "text/x-python",
   "name": "python",
   "nbconvert_exporter": "python",
   "pygments_lexer": "ipython3",
   "version": "3.7.4"
  }
 },
 "nbformat": 4,
 "nbformat_minor": 4
}
