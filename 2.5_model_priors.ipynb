{
 "cells": [
  {
   "cell_type": "markdown",
   "metadata": {},
   "source": [
    "# Explore priors"
   ]
  },
  {
   "cell_type": "code",
   "execution_count": null,
   "metadata": {},
   "outputs": [],
   "source": [
    "%load_ext autoreload\n",
    "%autoreload 2"
   ]
  },
  {
   "cell_type": "code",
   "execution_count": null,
   "metadata": {},
   "outputs": [],
   "source": [
    "# data + modelling\n",
    "import numpy as np\n",
    "import numpy.matlib  # for repmat, used in calc_log_loss()\n",
    "import pandas as pd\n",
    "import pymc3 as pm\n",
    "import math\n",
    "import os\n",
    "# from sklearn.metrics import log_loss\n",
    "import random\n",
    "\n",
    "# plotting\n",
    "import seaborn as sns\n",
    "%config InlineBackend.figure_format = 'retina'\n",
    "import matplotlib.pyplot as plt\n",
    "from matplotlib import gridspec\n",
    "plt.rcParams.update({'font.size': 14})\n",
    "\n",
    "from plotting import plot_data\n",
    "from models import ModifiedRachlin"
   ]
  },
  {
   "cell_type": "code",
   "execution_count": null,
   "metadata": {},
   "outputs": [],
   "source": [
    "# Initialize random number generator\n",
    "SEED = 123\n",
    "np.random.seed(SEED)\n",
    "\n",
    "# Define sampler options\n",
    "sample_options = {'tune': 2000, 'draws': 5000,\n",
    "                  'chains': 4, 'cores': 4,\n",
    "                  'nuts_kwargs': {'target_accept': 0.95},\n",
    "                  'random_seed': SEED}\n",
    "\n",
    "# less ambitious sampling for testing purposes\n",
    "test_sample_options = {'tune': 50, 'draws': 100,\n",
    "                  'chains': 2, 'cores': 2, # 'nuts_kwargs': {'target_accept': 0.95},\n",
    "                  'random_seed': SEED}"
   ]
  },
  {
   "cell_type": "code",
   "execution_count": null,
   "metadata": {},
   "outputs": [],
   "source": [
    "SHOULD_SAVE = False"
   ]
  },
  {
   "cell_type": "code",
   "execution_count": null,
   "metadata": {},
   "outputs": [],
   "source": [
    "out_dir = 'output/'\n",
    "\n",
    "# ensure output folder exists\n",
    "if not os.path.exists(out_dir):\n",
    "    os.makedirs(out_dir)\n",
    "    \n",
    "# ensure subfolders exist\n",
    "for expt in [1, 2]:\n",
    "    desired = f'{out_dir}expt{expt}/'\n",
    "    if not os.path.exists(desired):\n",
    "        os.makedirs(desired)"
   ]
  },
  {
   "cell_type": "code",
   "execution_count": null,
   "metadata": {},
   "outputs": [],
   "source": [
    "expt = 2\n",
    "data_file = f'raw_data_expt{expt}/EXPERIMENT{expt}DATA.csv'"
   ]
  },
  {
   "cell_type": "code",
   "execution_count": null,
   "metadata": {},
   "outputs": [],
   "source": [
    "data = pd.read_csv(out_dir + data_file, index_col=False)"
   ]
  },
  {
   "cell_type": "code",
   "execution_count": null,
   "metadata": {},
   "outputs": [],
   "source": [
    "mf = ModifiedRachlin(data)"
   ]
  },
  {
   "cell_type": "code",
   "execution_count": null,
   "metadata": {},
   "outputs": [],
   "source": [
    "pm.model_to_graphviz(mf.model)"
   ]
  },
  {
   "cell_type": "code",
   "execution_count": null,
   "metadata": {},
   "outputs": [],
   "source": [
    "mf.sample_from_prior()"
   ]
  },
  {
   "cell_type": "code",
   "execution_count": null,
   "metadata": {},
   "outputs": [],
   "source": [
    "logk = mf.prior_samples['group_logk']\n",
    "logk = logk.flatten()\n",
    "\n",
    "logs = mf.prior_samples['group_logs']\n",
    "logs = logs.flatten()\n",
    "\n",
    "print(f'logk mean = {np.mean(logk)}, variance = {np.var(logk)}')\n",
    "print(f'logs mean = {np.mean(logs)}, variance = {np.var(logs)}')"
   ]
  },
  {
   "cell_type": "code",
   "execution_count": null,
   "metadata": {},
   "outputs": [],
   "source": [
    "fig = plt.figure(figsize=(10, 15))\n",
    "gs = gridspec.GridSpec(3, 2)\n",
    "\n",
    "# log\n",
    "ax = fig.add_subplot(gs[0,0])\n",
    "sns.distplot(logk, ax=ax)\n",
    "ax.set(xlabel=r'$\\ln(k)$', ylabel='prior density', title=\"(a)\")\n",
    "\n",
    "ax = fig.add_subplot(gs[0,1])\n",
    "sns.distplot(logs, ax=ax)\n",
    "ax.set(xlabel=r'$\\ln(s)$', ylabel='prior density', title=\"(b)\")\n",
    "\n",
    "# plot discount functions, sampled from prior\n",
    "ax = fig.add_subplot(gs[1:2,:])\n",
    "\n",
    "n_samples_to_plot = 500\n",
    "delays = np.linspace(0, 101, 500)\n",
    "for n in range(n_samples_to_plot):\n",
    "    ax.plot(delays, mf.discount_function(delays, np.exp(logk[n]), np.exp(logs[n])),\n",
    "            c='k', alpha=0.1)\n",
    "\n",
    "ax.set(xlabel=\"delay [seconds]\", \n",
    "       ylabel='discount fraction\\n$1/(1+(k \\cdot delay)^s)$', \n",
    "       title=\"(c)\",\n",
    "       xlim=[0, 101],\n",
    "       ylim=[0, 1])\n",
    "\n",
    "fig.tight_layout()\n",
    "\n",
    "if SHOULD_SAVE:\n",
    "    plt.savefig(f'{out_dir}priors.pdf', bbox_inches='tight')"
   ]
  },
  {
   "cell_type": "code",
   "execution_count": null,
   "metadata": {},
   "outputs": [],
   "source": []
  },
  {
   "cell_type": "code",
   "execution_count": null,
   "metadata": {},
   "outputs": [],
   "source": []
  },
  {
   "cell_type": "code",
   "execution_count": null,
   "metadata": {},
   "outputs": [],
   "source": []
  }
 ],
 "metadata": {
  "kernelspec": {
   "display_name": "Python 3",
   "language": "python",
   "name": "python3"
  },
  "language_info": {
   "codemirror_mode": {
    "name": "ipython",
    "version": 3
   },
   "file_extension": ".py",
   "mimetype": "text/x-python",
   "name": "python",
   "nbconvert_exporter": "python",
   "pygments_lexer": "ipython3",
   "version": "3.7.5"
  }
 },
 "nbformat": 4,
 "nbformat_minor": 4
}
