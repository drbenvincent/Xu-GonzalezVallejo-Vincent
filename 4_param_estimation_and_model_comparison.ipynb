{
 "cells": [
  {
   "cell_type": "markdown",
   "metadata": {},
   "source": [
    "# Parameter estimation and model comparison\n",
    "This notebook will conduct parameter estimation for the following models:\n",
    "- Hyperbolic discount function\n",
    "- Modified Rachlin discount function\n",
    "\n",
    "We then do model comparison, using the WAIC metric. We find evidence that the modified Rachlin model is suprior in terms of the WAIC metric. This metric not only takes 'goodness of fit' into account, but also model complexity. Because of this we have justification for using the modified Rachlin discount function above and beyond the hyperbolic discount function.\n",
    "\n",
    "Proceeding with the modified Rachlin discount function, we export the (posterior mean) parameter estimates for conducting statistical testing on. We also visualise various aspects of the data."
   ]
  },
  {
   "cell_type": "code",
   "execution_count": null,
   "metadata": {},
   "outputs": [],
   "source": [
    "# Install Black autoformatter with: pip install nb-black\n",
    "%load_ext lab_black"
   ]
  },
  {
   "cell_type": "code",
   "execution_count": null,
   "metadata": {},
   "outputs": [],
   "source": [
    "%load_ext autoreload\n",
    "%autoreload 2"
   ]
  },
  {
   "cell_type": "code",
   "execution_count": null,
   "metadata": {},
   "outputs": [],
   "source": [
    "# data + modelling\n",
    "import numpy as np\n",
    "import pandas as pd\n",
    "import pymc3 as pm\n",
    "import os\n",
    "\n",
    "# plotting\n",
    "import seaborn as sns\n",
    "\n",
    "%config InlineBackend.figure_format = 'retina'\n",
    "import matplotlib.pyplot as plt\n",
    "from matplotlib import gridspec\n",
    "\n",
    "plt.rcParams.update({\"font.size\": 14})\n",
    "\n",
    "from models import (\n",
    "    ModifiedRachlin,\n",
    "    ModifiedRachlinFreeSlope,\n",
    "    HyperbolicFreeSlope,\n",
    ")"
   ]
  },
  {
   "cell_type": "code",
   "execution_count": null,
   "metadata": {},
   "outputs": [],
   "source": [
    "print(f\"PyMC3 version: {pm.__version__}\")\n",
    "\n",
    "import arviz as az\n",
    "az.__version__"
   ]
  },
  {
   "cell_type": "markdown",
   "metadata": {},
   "source": [
    "Experiment specific information\n",
    "\n",
    "NOTE: Set the `expt` variable to either 1 or 2 and run the notebook to do parameter estimation for that experiment."
   ]
  },
  {
   "cell_type": "code",
   "execution_count": null,
   "metadata": {},
   "outputs": [],
   "source": [
    "expt = 1\n",
    "data_file = f\"data/processed/EXPERIMENT{expt}DATA.csv\""
   ]
  },
  {
   "cell_type": "code",
   "execution_count": null,
   "metadata": {},
   "outputs": [],
   "source": [
    "if expt is 1:\n",
    "    group_name = [\"Deferred, low\", \"Online, low\", \"Deferred, high\", \"Online, high\"]\n",
    "elif expt is 2:\n",
    "    group_name = [\"Deferred, gain\", \"Online, gain\", \"Deferred, loss\", \"Online, loss\"]"
   ]
  },
  {
   "cell_type": "markdown",
   "metadata": {},
   "source": [
    "Set up our options"
   ]
  },
  {
   "cell_type": "code",
   "execution_count": null,
   "metadata": {},
   "outputs": [],
   "source": [
    "# Initialize random number generator\n",
    "SEED = 123\n",
    "np.random.seed(SEED)\n",
    "\n",
    "# Define sampler options\n",
    "sample_options = {\n",
    "    \"tune\": 2000,\n",
    "    \"draws\": 5000,\n",
    "    \"chains\": 2,\n",
    "    \"cores\": 2,\n",
    "    \"nuts_kwargs\": {\"target_accept\": 0.95},\n",
    "    \"random_seed\": SEED,\n",
    "}\n",
    "\n",
    "# # less ambitious sampling for testing purposes\n",
    "# sample_options = {'tune': 500, 'draws': 1000,\n",
    "#                   'chains': 2, 'cores': 2, # 'nuts_kwargs': {'target_accept': 0.95},\n",
    "#                   'random_seed': SEED}"
   ]
  },
  {
   "cell_type": "code",
   "execution_count": null,
   "metadata": {},
   "outputs": [],
   "source": [
    "SHOULD_SAVE = False"
   ]
  },
  {
   "cell_type": "code",
   "execution_count": null,
   "metadata": {},
   "outputs": [],
   "source": [
    "out_dir = \"output\"\n",
    "\n",
    "# ensure output folder exists\n",
    "if not os.path.exists(out_dir):\n",
    "    os.makedirs(out_dir)\n",
    "\n",
    "# ensure subfolders exist\n",
    "for e in [1, 2]:\n",
    "    desired = f\"{out_dir}/expt{e}/\"\n",
    "    if not os.path.exists(desired):\n",
    "        os.makedirs(desired)"
   ]
  },
  {
   "cell_type": "markdown",
   "metadata": {},
   "source": [
    "# Import data"
   ]
  },
  {
   "cell_type": "code",
   "execution_count": null,
   "metadata": {},
   "outputs": [],
   "source": [
    "data = pd.read_csv(data_file, index_col=False)"
   ]
  },
  {
   "cell_type": "code",
   "execution_count": null,
   "metadata": {},
   "outputs": [],
   "source": [
    "data.head()"
   ]
  },
  {
   "cell_type": "code",
   "execution_count": null,
   "metadata": {},
   "outputs": [],
   "source": [
    "expt"
   ]
  },
  {
   "cell_type": "markdown",
   "metadata": {},
   "source": [
    "# Parameter estimation"
   ]
  },
  {
   "cell_type": "markdown",
   "metadata": {},
   "source": [
    "## Hyperbolic model"
   ]
  },
  {
   "cell_type": "code",
   "execution_count": null,
   "metadata": {},
   "outputs": [],
   "source": [
    "h_free = HyperbolicFreeSlope(data)\n",
    "h_free.sample_from_posterior(sample_options)"
   ]
  },
  {
   "cell_type": "markdown",
   "metadata": {},
   "source": [
    "Examine goodness of inferences"
   ]
  },
  {
   "cell_type": "code",
   "execution_count": null,
   "metadata": {},
   "outputs": [],
   "source": [
    "pm.energyplot(h_free.posterior_samples)"
   ]
  },
  {
   "cell_type": "code",
   "execution_count": null,
   "metadata": {},
   "outputs": [],
   "source": [
    "pm.forestplot(h_free.posterior_samples, var_names=[\"logk\"], r_hat=True)"
   ]
  },
  {
   "cell_type": "code",
   "execution_count": null,
   "metadata": {},
   "outputs": [],
   "source": [
    "pm.forestplot(h_free.posterior_samples, var_names=[\"α\"], r_hat=True)"
   ]
  },
  {
   "cell_type": "markdown",
   "metadata": {},
   "source": [
    "## Modified Rachlin model"
   ]
  },
  {
   "cell_type": "code",
   "execution_count": null,
   "metadata": {},
   "outputs": [],
   "source": [
    "mr_free = ModifiedRachlinFreeSlope(data)\n",
    "mr_free.sample_from_posterior(sample_options)"
   ]
  },
  {
   "cell_type": "markdown",
   "metadata": {},
   "source": [
    "Examine goodness of inferences"
   ]
  },
  {
   "cell_type": "code",
   "execution_count": null,
   "metadata": {},
   "outputs": [],
   "source": [
    "pm.energyplot(mr_free.posterior_samples)"
   ]
  },
  {
   "cell_type": "code",
   "execution_count": null,
   "metadata": {},
   "outputs": [],
   "source": [
    "pm.forestplot(mr_free.posterior_samples, var_names=[\"logk\"], r_hat=True)"
   ]
  },
  {
   "cell_type": "code",
   "execution_count": null,
   "metadata": {},
   "outputs": [],
   "source": [
    "pm.forestplot(mr_free.posterior_samples, var_names=[\"logs\"], r_hat=True)"
   ]
  },
  {
   "cell_type": "code",
   "execution_count": null,
   "metadata": {},
   "outputs": [],
   "source": [
    "pm.forestplot(mr_free.posterior_samples, var_names=[\"α\"], r_hat=True)"
   ]
  },
  {
   "cell_type": "markdown",
   "metadata": {},
   "source": [
    "# Model comparison\n",
    "PyMC3 is set up to do model comparison using WAIC. See https://docs.pymc.io/notebooks/model_comparison.html for more info."
   ]
  },
  {
   "cell_type": "code",
   "execution_count": null,
   "metadata": {},
   "outputs": [],
   "source": [
    "hyperbolic_free_waic = pm.waic(h_free.posterior_samples, h_free.model)"
   ]
  },
  {
   "cell_type": "code",
   "execution_count": null,
   "metadata": {},
   "outputs": [],
   "source": [
    "free_waic = pm.waic(mr_free.posterior_samples, mr_free.model)"
   ]
  },
  {
   "cell_type": "code",
   "execution_count": null,
   "metadata": {},
   "outputs": [],
   "source": [
    "mr_free.model.name = \"Modified Rachlin, free slope\"\n",
    "h_free.model.name = \"Hyperbolic, free slope\""
   ]
  },
  {
   "cell_type": "code",
   "execution_count": null,
   "metadata": {},
   "outputs": [],
   "source": [
    "df_comp_WAIC = az.compare(\n",
    "    {\n",
    "        mr_free.model: mr_free.posterior_samples,\n",
    "        h_free.model: h_free.posterior_samples,\n",
    "    }\n",
    ")\n",
    "df_comp_WAIC"
   ]
  },
  {
   "cell_type": "code",
   "execution_count": null,
   "metadata": {},
   "outputs": [],
   "source": [
    "h_free.posterior_samples"
   ]
  },
  {
   "cell_type": "code",
   "execution_count": null,
   "metadata": {},
   "outputs": [],
   "source": [
    "model_dict = dict(\n",
    "    zip(\n",
    "        [\"Hyperbolic\", \"Modified Rachlin\"],\n",
    "        [h_free.posterior_samples, mr_free.posterior_samples],\n",
    "    )\n",
    ")\n",
    "comp = az.compare(model_dict)"
   ]
  },
  {
   "cell_type": "code",
   "execution_count": null,
   "metadata": {},
   "outputs": [],
   "source": [
    "#  ax = az.plot_compare(comp)"
   ]
  },
  {
   "cell_type": "code",
   "execution_count": null,
   "metadata": {},
   "outputs": [],
   "source": [
    "ax = az.plot_compare(comp)\n",
    "\n",
    "ax.get_figure().savefig(\n",
    "    f\"{out_dir}/expt{expt}/expt{expt}_model_comparison.pdf\", bbox_inches=\"tight\"\n",
    ")"
   ]
  },
  {
   "cell_type": "markdown",
   "metadata": {},
   "source": [
    "Based on the model comparison we are going to proceed with Modified Rachlin model."
   ]
  },
  {
   "cell_type": "code",
   "execution_count": null,
   "metadata": {},
   "outputs": [],
   "source": [
    "model = mr_free\n",
    "\n",
    "del mr_free\n",
    "del h_free"
   ]
  },
  {
   "cell_type": "markdown",
   "metadata": {},
   "source": [
    "# Export parameter estimate table\n",
    "First we define some functions to calculate measures derived from the model."
   ]
  },
  {
   "cell_type": "code",
   "execution_count": null,
   "metadata": {},
   "outputs": [],
   "source": [
    "parameter_estimates = model.calc_results(expt)\n",
    "parameter_estimates"
   ]
  },
  {
   "cell_type": "code",
   "execution_count": null,
   "metadata": {},
   "outputs": [],
   "source": [
    "if SHOULD_SAVE:\n",
    "    parameter_estimates.to_csv(f'analysis/EXPERIMENT_{expt}_RESULTS.csv')"
   ]
  },
  {
   "cell_type": "markdown",
   "metadata": {},
   "source": [
    "# Visualisation"
   ]
  },
  {
   "cell_type": "markdown",
   "metadata": {},
   "source": [
    "## Group level"
   ]
  },
  {
   "cell_type": "code",
   "execution_count": null,
   "metadata": {},
   "outputs": [],
   "source": [
    "pm.forestplot(\n",
    "    model.posterior_samples, var_names=[\"group_logk\", \"group_logs\"], r_hat=True\n",
    ")"
   ]
  },
  {
   "cell_type": "markdown",
   "metadata": {},
   "source": [
    "## Visualise posterior predictions for each group"
   ]
  },
  {
   "cell_type": "code",
   "execution_count": null,
   "metadata": {},
   "outputs": [],
   "source": [
    "for group, name in enumerate(group_name):\n",
    "    model.group_plot(group)\n",
    "    if SHOULD_SAVE:\n",
    "        plt.savefig(f'{out_dir}/expt{expt}/expt{expt}_{name}.pdf', bbox_inches='tight')"
   ]
  },
  {
   "cell_type": "code",
   "execution_count": null,
   "metadata": {},
   "outputs": [],
   "source": [
    "# trace = model.posterior_samples\n",
    "\n",
    "# fig, ax = plt.subplots(1, 1, figsize=(8,8))\n",
    "\n",
    "# for i in range(4):\n",
    "#     logk = trace['group_logk'][:,i]\n",
    "#     logs = trace['group_logs'][:,i]\n",
    "#     ax.scatter(logk, logs, alpha=0.1, label=group_name[i])\n",
    "    \n",
    "# leg = ax.legend()\n",
    "\n",
    "# for lh in leg.legendHandles: \n",
    "#     lh.set_alpha(1)\n",
    "    \n",
    "# ax.set(xlabel='logk', ylabel='logs', title='parameter space')\n",
    "\n",
    "# if SHOULD_SAVE:\n",
    "#     plt.savefig(f'{out_dir}expt{expt}/group_param_space.pdf', bbox_inches='tight')"
   ]
  },
  {
   "cell_type": "markdown",
   "metadata": {},
   "source": [
    "## Visualise group mean parameter values"
   ]
  },
  {
   "cell_type": "code",
   "execution_count": null,
   "metadata": {},
   "outputs": [],
   "source": [
    "# model = mr_free\n",
    "trace = model.posterior_samples"
   ]
  },
  {
   "cell_type": "code",
   "execution_count": null,
   "metadata": {},
   "outputs": [],
   "source": [
    "plt.rcParams.update({\"font.size\": 14})"
   ]
  },
  {
   "cell_type": "code",
   "execution_count": null,
   "metadata": {},
   "outputs": [],
   "source": [
    "fig, ax = plt.subplots(1, 1, figsize=(8, 8))\n",
    "\n",
    "for i in range(4):\n",
    "    logk = trace[\"mu_logk\"][:, i]\n",
    "    logs = trace[\"mu_logs\"][:, i]\n",
    "    s = np.exp(logs)\n",
    "    ax.scatter(logk, s, alpha=0.1, label=group_name[i])\n",
    "\n",
    "leg = ax.legend()\n",
    "\n",
    "for lh in leg.legendHandles:\n",
    "    lh.set_alpha(1)\n",
    "\n",
    "ax.set(xlabel=r\"$\\log(k)$\", ylabel=r\"$s$\", title=f\"Experiment {expt}\")\n",
    "\n",
    "if SHOULD_SAVE:\n",
    "    plt.savefig(\n",
    "        f\"{out_dir}/expt{expt}/expt{expt}_group_mean_estimates_in_param_space.pdf\",\n",
    "        bbox_inches=\"tight\",\n",
    "    )"
   ]
  },
  {
   "cell_type": "markdown",
   "metadata": {},
   "source": [
    "Create joint plot"
   ]
  },
  {
   "cell_type": "code",
   "execution_count": null,
   "metadata": {},
   "outputs": [],
   "source": [
    "fig, ax = plt.subplots(1, 1, figsize=(8, 8))\n",
    "\n",
    "cols = [\"Reds\", \"Blues\", \"Greens\", \"Purples\"]\n",
    "\n",
    "for i in [0, 1, 2, 3]:\n",
    "    x = trace[\"mu_logk\"][:, i]\n",
    "    y = np.exp(trace[\"mu_logs\"][:, i])\n",
    "    sns.kdeplot(x, y, ax=ax, cmap=cols[i], shade=True, shade_lowest=False, cbar=False)\n",
    "\n",
    "ax.set(xlabel=\"$\\log(k)$\", ylabel=\"$s$\")\n",
    "\n",
    "ax.axhline(y=1, c=\"k\", lw=1)\n",
    "\n",
    "savename = f\"{out_dir}/expt{expt}_group_means_contour.pdf\"\n",
    "plt.savefig(savename, bbox_inches=\"tight\")"
   ]
  },
  {
   "cell_type": "markdown",
   "metadata": {},
   "source": [
    "Looks like I'll have to do something more manual for what I want"
   ]
  },
  {
   "cell_type": "code",
   "execution_count": null,
   "metadata": {},
   "outputs": [],
   "source": [
    "expt"
   ]
  },
  {
   "cell_type": "code",
   "execution_count": null,
   "metadata": {},
   "outputs": [],
   "source": [
    "import scipy.stats as stats\n",
    "\n",
    "if expt is 1:\n",
    "    xmin, xmax = -5, -2.5\n",
    "    ymin, ymax = 0.5, 2.5\n",
    "elif expt is 2:\n",
    "    xmin, xmax = -6, -2.5\n",
    "    ymin, ymax = 0.5, 3.0\n",
    "\n",
    "\n",
    "def density_estimation(m1, m2):\n",
    "    X, Y = np.mgrid[xmin:xmax:100j, ymin:ymax:100j]\n",
    "    positions = np.vstack([X.ravel(), Y.ravel()])\n",
    "    values = np.vstack([m1, m2])\n",
    "    kernel = stats.gaussian_kde(values)\n",
    "    Z = np.reshape(kernel(positions).T, X.shape)\n",
    "    return X, Y, Z"
   ]
  },
  {
   "cell_type": "code",
   "execution_count": null,
   "metadata": {},
   "outputs": [],
   "source": [
    "fig, ax = plt.subplots(1, 1, figsize=(8, 8))\n",
    "\n",
    "linestyles = [\"solid\", \"dashed\", \"solid\", \"dashed\"]\n",
    "linewidths = [2, 2, 4, 4]\n",
    "\n",
    "# create proxy lines to get legend working properly. Can't add legends to contour plots\n",
    "import matplotlib.lines as mlines\n",
    "\n",
    "proxy_lines = [\n",
    "    mlines.Line2D(\n",
    "        [],\n",
    "        [],\n",
    "        color=\"k\",\n",
    "        marker=None,\n",
    "        lw=linewidths[0],\n",
    "        linestyle=linestyles[0],\n",
    "        label=group_name[0],\n",
    "    ),\n",
    "    mlines.Line2D(\n",
    "        [],\n",
    "        [],\n",
    "        color=\"k\",\n",
    "        marker=None,\n",
    "        lw=linewidths[1],\n",
    "        linestyle=linestyles[1],\n",
    "        label=group_name[1],\n",
    "    ),\n",
    "    mlines.Line2D(\n",
    "        [],\n",
    "        [],\n",
    "        color=\"k\",\n",
    "        marker=None,\n",
    "        lw=linewidths[2],\n",
    "        linestyle=linestyles[2],\n",
    "        label=group_name[2],\n",
    "    ),\n",
    "    mlines.Line2D(\n",
    "        [],\n",
    "        [],\n",
    "        color=\"k\",\n",
    "        marker=None,\n",
    "        lw=linewidths[3],\n",
    "        linestyle=linestyles[3],\n",
    "        label=group_name[3],\n",
    "    ),\n",
    "]\n",
    "\n",
    "for i in [0, 1, 2, 3]:\n",
    "    x = trace[\"mu_logk\"][:, i]\n",
    "    y = np.exp(trace[\"mu_logs\"][:, i])\n",
    "\n",
    "    # convert scatter data into x, y, z for contour plotting\n",
    "    X, Y, Z = density_estimation(x, y)\n",
    "    Z = Z / np.max(Z)\n",
    "\n",
    "    ax.contour(\n",
    "        X, Y, Z, [0.05], colors=\"k\", linewidths=linewidths[i], linestyles=linestyles[i],\n",
    "    )\n",
    "\n",
    "ax.legend(handles=proxy_lines, loc=\"upper left\")\n",
    "ax.set(xlabel=\"$\\ln(k)$\", ylabel=\"$s$\")\n",
    "ax.axhline(y=1, c=\"k\", lw=1)\n",
    "\n",
    "savename = f\"{out_dir}/expt{expt}_group_means_contourBW.pdf\"\n",
    "plt.savefig(savename, bbox_inches=\"tight\")"
   ]
  },
  {
   "cell_type": "markdown",
   "metadata": {},
   "source": [
    "Additional plots. First get the data into long format."
   ]
  },
  {
   "cell_type": "code",
   "execution_count": null,
   "metadata": {},
   "outputs": [],
   "source": [
    "print(f\"Experiment: {expt}\\n\")\n",
    "[print(group_name[i]) for i in [0, 1, 2, 3]]"
   ]
  },
  {
   "cell_type": "code",
   "execution_count": null,
   "metadata": {},
   "outputs": [],
   "source": [
    "def get_long_format_data(trace, expt):\n",
    "    # concatenate\n",
    "    logk = np.concatenate(\n",
    "        (\n",
    "            trace[\"mu_logk\"][:, 0],\n",
    "            trace[\"mu_logk\"][:, 1],\n",
    "            trace[\"mu_logk\"][:, 2],\n",
    "            trace[\"mu_logk\"][:, 3],\n",
    "        )\n",
    "    )\n",
    "\n",
    "    s = np.concatenate(\n",
    "        (\n",
    "            np.exp(trace[\"mu_logs\"][:, 0]),\n",
    "            np.exp(trace[\"mu_logs\"][:, 1]),\n",
    "            np.exp(trace[\"mu_logs\"][:, 2]),\n",
    "            np.exp(trace[\"mu_logs\"][:, 3]),\n",
    "        )\n",
    "    )\n",
    "\n",
    "    if expt is 1:\n",
    "\n",
    "        condition = [\"Deferred\", \"Online\", \"Deferred\", \"Online\"]\n",
    "        condition = np.repeat(condition, 10000)\n",
    "\n",
    "        magnitude = [\"Low\", \"Low\", \"High\", \"High\"]\n",
    "        magnitude = np.repeat(magnitude, 10000)\n",
    "\n",
    "        df = pd.DataFrame(\n",
    "            {\"logk\": logk, \"s\": s, \"Condition\": condition, \"Magnitude\": magnitude}\n",
    "        )\n",
    "\n",
    "    elif expt is 2:\n",
    "\n",
    "        condition = [\"Deferred\", \"Online\", \"Deferred\", \"Online\"]\n",
    "        condition = np.repeat(condition, 10000)\n",
    "\n",
    "        domain = [\"Gain\", \"Gain\", \"Loss\", \"Loss\"]\n",
    "        domain = np.repeat(domain, 10000)\n",
    "\n",
    "        df = pd.DataFrame(\n",
    "            {\"logk\": logk, \"s\": s, \"Condition\": condition, \"Domain\": domain}\n",
    "        )\n",
    "\n",
    "    return df"
   ]
  },
  {
   "cell_type": "code",
   "execution_count": null,
   "metadata": {},
   "outputs": [],
   "source": [
    "df = get_long_format_data(trace, expt)\n",
    "df.head()"
   ]
  },
  {
   "cell_type": "markdown",
   "metadata": {},
   "source": [
    "Plot"
   ]
  },
  {
   "cell_type": "code",
   "execution_count": null,
   "metadata": {},
   "outputs": [],
   "source": [
    "# fill colour palete\n",
    "my_pal = {\"Deferred\": [1, 1, 1], \"Online\": [0.75, 0.75, 0.75]}"
   ]
  },
  {
   "cell_type": "code",
   "execution_count": null,
   "metadata": {},
   "outputs": [],
   "source": [
    "fig, ax = plt.subplots(1, 2, figsize=(12, 6))\n",
    "\n",
    "if expt is 1:\n",
    "\n",
    "    sns.violinplot(\n",
    "        x=\"Magnitude\",\n",
    "        y=\"logk\",\n",
    "        hue=\"Condition\",\n",
    "        data=df,\n",
    "        palette=my_pal,\n",
    "        ax=ax[0],\n",
    "        split=False,\n",
    "        inner=None,\n",
    "    )\n",
    "\n",
    "    sns.violinplot(\n",
    "        x=\"Magnitude\",\n",
    "        y=\"s\",\n",
    "        hue=\"Condition\",\n",
    "        data=df,\n",
    "        palette=my_pal,\n",
    "        ax=ax[1],\n",
    "        split=False,\n",
    "        inner=None,\n",
    "    )\n",
    "\n",
    "    ax[1].axhline(y=1, c=\"k\", lw=1)\n",
    "\n",
    "elif expt is 2:\n",
    "\n",
    "    sns.violinplot(\n",
    "        x=\"Domain\",\n",
    "        y=\"logk\",\n",
    "        hue=\"Condition\",\n",
    "        data=df,\n",
    "        palette=my_pal,\n",
    "        ax=ax[0],\n",
    "        split=False,\n",
    "        inner=None,\n",
    "    )\n",
    "\n",
    "    sns.violinplot(\n",
    "        x=\"Domain\",\n",
    "        y=\"s\",\n",
    "        hue=\"Condition\",\n",
    "        data=df,\n",
    "        palette=my_pal,\n",
    "        ax=ax[1],\n",
    "        split=False,\n",
    "        inner=None,\n",
    "    )\n",
    "\n",
    "    ax[1].axhline(y=1, c=\"k\", lw=1)\n",
    "\n",
    "\n",
    "savename = f\"{out_dir}/expt{expt}_group_means.pdf\"\n",
    "plt.savefig(savename, bbox_inches=\"tight\")"
   ]
  },
  {
   "cell_type": "markdown",
   "metadata": {},
   "source": [
    "## Participant level plots"
   ]
  },
  {
   "cell_type": "markdown",
   "metadata": {},
   "source": [
    "Do one example"
   ]
  },
  {
   "cell_type": "code",
   "execution_count": null,
   "metadata": {},
   "outputs": [],
   "source": [
    "model.participant_plot(0)"
   ]
  },
  {
   "cell_type": "code",
   "execution_count": null,
   "metadata": {},
   "outputs": [],
   "source": [
    "n_participants = len(data.id.unique())\n",
    "n_participants"
   ]
  },
  {
   "cell_type": "markdown",
   "metadata": {},
   "source": [
    "🔥 Export all participant level plots. This takes a while to do. 🔥 "
   ]
  },
  {
   "cell_type": "code",
   "execution_count": null,
   "metadata": {},
   "outputs": [],
   "source": [
    "if SHOULD_SAVE:\n",
    "    for id in range(n_participants):\n",
    "        print(f'{id} of {n_participants}')\n",
    "        model.participant_plot(id)\n",
    "\n",
    "        savename = f'{out_dir}/expt{expt}/id{id}_expt{expt}.pdf'\n",
    "        plt.savefig(savename, bbox_inches='tight')\n",
    "\n",
    "        # Close the figure to avoid very heavy plotting inside the notebook\n",
    "        plt.close(plt.gcf())"
   ]
  },
  {
   "cell_type": "markdown",
   "metadata": {},
   "source": [
    "## Demo figure\n",
    "We are going to plot example data + parameter estimates for each condition (row) and a number of randomly chosen participants in each column."
   ]
  },
  {
   "cell_type": "code",
   "execution_count": null,
   "metadata": {},
   "outputs": [],
   "source": [
    "def ids_in_condition(data, condition):\n",
    "    '''Return a list of id's in this condition'''\n",
    "    return data[data['condition'] == condition].id.unique()"
   ]
  },
  {
   "cell_type": "code",
   "execution_count": null,
   "metadata": {},
   "outputs": [],
   "source": [
    "plt.rcParams.update({'font.size': 14})\n",
    "\n",
    "N_CONDITIONS = 4\n",
    "N_EXAMPLES = 3  # number of columns\n",
    "\n",
    "fig, ax = plt.subplots(N_CONDITIONS, N_EXAMPLES, figsize=(15, 13))\n",
    "\n",
    "# Ording of these is crucial... see the data import notebook for the key\n",
    "if expt is 1:\n",
    "    row_headings = ['Deferred, low',\n",
    "                    'Online, low',\n",
    "                    'Deferred, high',  \n",
    "                    'Online, high']\n",
    "elif expt is 2:\n",
    "    row_headings = ['Deferred, gain',\n",
    "                    'Online, gain',\n",
    "                    'Deferred, loss', \n",
    "                    'Online, loss']\n",
    "                \n",
    "pad = 13 # in points\n",
    "for axis, row_title in zip(ax[:,0], row_headings):\n",
    "    axis.annotate(row_title, xy=(0, 0.5), xytext=(-axis.yaxis.labelpad - pad, 0),\n",
    "                  xycoords=axis.yaxis.label, textcoords='offset points',\n",
    "                  size='large', ha='center', va='center', rotation=90)\n",
    "    \n",
    "fig.tight_layout()\n",
    "\n",
    "# plot stuff\n",
    "for condition in [0, 1, 2, 3]:\n",
    "    \n",
    "    # get 3 participants who took part in this condition\n",
    "    valid_ids = ids_in_condition(data, condition)\n",
    "    ids = np.random.choice(valid_ids, N_EXAMPLES, replace=False)\n",
    "    \n",
    "    \n",
    "    for col, exemplar_id in enumerate(ids):\n",
    "        model.plot_participant_data_space(ax[condition, col],\n",
    "                                       (trace['logk'][:,exemplar_id], \n",
    "                                        trace['logs'][:,exemplar_id]),\n",
    "                                       exemplar_id)\n",
    "        # remove title\n",
    "        ax[condition, col].set_title(\"\")\n",
    "        \n",
    "#         plot_data_space(exemplar_id, ax[condition, col], data,\n",
    "#                         trace['logk'][:,exemplar_id], trace['logs'][:,exemplar_id])\n",
    "        \n",
    "fig.tight_layout()\n",
    "\n",
    "# selectively remove x labels\n",
    "for condition in [0, 1, 2]:\n",
    "    for exemplar in [0, 1, 2]:\n",
    "        ax[condition, exemplar].set(xlabel=None)\n",
    "        \n",
    "# selectively remove y labels\n",
    "for condition in [0, 1, 2, 3]:\n",
    "    for exemplar in [1, 2]:\n",
    "        ax[condition, exemplar].set(ylabel=None)\n",
    "        \n",
    "if SHOULD_SAVE:\n",
    "    plt.savefig(f'{out_dir}/example_fits_experiment{expt}.pdf', bbox_inches='tight')"
   ]
  }
 ],
 "metadata": {
  "kernelspec": {
   "display_name": "Python 3",
   "language": "python",
   "name": "python3"
  },
  "language_info": {
   "codemirror_mode": {
    "name": "ipython",
    "version": 3
   },
   "file_extension": ".py",
   "mimetype": "text/x-python",
   "name": "python",
   "nbconvert_exporter": "python",
   "pygments_lexer": "ipython3",
   "version": "3.7.4"
  }
 },
 "nbformat": 4,
 "nbformat_minor": 4
}
