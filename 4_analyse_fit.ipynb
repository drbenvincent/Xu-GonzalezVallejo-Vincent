{
 "cells": [
  {
   "cell_type": "markdown",
   "metadata": {},
   "source": [
    "# Analyse goodness of fit"
   ]
  },
  {
   "cell_type": "code",
   "execution_count": null,
   "metadata": {},
   "outputs": [],
   "source": [
    "# data + modelling\n",
    "import numpy as np\n",
    "import pandas as pd\n",
    "\n",
    "# plotting\n",
    "import seaborn as sns\n",
    "%config InlineBackend.figure_format = 'retina'\n",
    "import matplotlib.pyplot as plt\n",
    "plt.rcParams.update({'font.size': 14})"
   ]
  },
  {
   "cell_type": "code",
   "execution_count": null,
   "metadata": {},
   "outputs": [],
   "source": [
    "expt1 = pd.read_csv('analysis/EXPERIMENT_1_RESULTS.csv')\n",
    "expt2 = pd.read_csv('analysis/EXPERIMENT_2_RESULTS.csv')\n",
    "\n",
    "# add Experiment column\n",
    "def new_col_of_value(df, colname, value):\n",
    "    '''Add column representing experiment number'''\n",
    "    df[colname] = pd.Series(value, index=df.index)\n",
    "    return df\n",
    "\n",
    "expt1 = new_col_of_value(expt1, 'Experiment', 1)\n",
    "expt2 = new_col_of_value(expt2, 'Experiment', 2)\n",
    "\n",
    "# gather desired columns from both experiments and concatenate into new dataframe\n",
    "data = pd.concat( [expt1[['log_loss', 'percent_predicted', 'Experiment']],\n",
    "                   expt2[['log_loss', 'percent_predicted', 'Experiment']]])\n",
    "\n",
    "# improved labels\n",
    "data = data.rename(index=str, columns={\"log_loss\": \"Log Loss\",\n",
    "                                       \"percent_predicted\": \"Proportion Predicted\"})"
   ]
  },
  {
   "cell_type": "markdown",
   "metadata": {},
   "source": [
    "Plotting"
   ]
  },
  {
   "cell_type": "code",
   "execution_count": null,
   "metadata": {},
   "outputs": [],
   "source": [
    "fig, ax = plt.subplots(1, 2, figsize=(12, 6))\n",
    "\n",
    "sns.swarmplot(x=\"Experiment\", y=\"Proportion Predicted\", data=data, ax=ax[0],\n",
    "             size=6, color='k')\n",
    "ax[0].set(title=\"(a)\", ylim=[0.5-0.01, 1.01])\n",
    "\n",
    "sns.swarmplot(x=\"Experiment\", y=\"Log Loss\", data=data, ax=ax[1],\n",
    "             size=6, color='k')\n",
    "ax[1].set_title(\"(b)\")\n",
    "\n",
    "# increase spacing\n",
    "plt.subplots_adjust(wspace=0.3)\n",
    "\n",
    "plt.savefig('output/goodness_of_fit.pdf', bbox_inches='tight')"
   ]
  },
  {
   "cell_type": "markdown",
   "metadata": {},
   "source": [
    "Calculate the summary statistics of each measure, for each experiment."
   ]
  },
  {
   "cell_type": "code",
   "execution_count": null,
   "metadata": {},
   "outputs": [],
   "source": [
    "data.groupby(['Experiment']).median()"
   ]
  },
  {
   "cell_type": "code",
   "execution_count": null,
   "metadata": {},
   "outputs": [],
   "source": [
    "data.groupby(['Experiment']).std()"
   ]
  }
 ],
 "metadata": {
  "kernelspec": {
   "display_name": "Python 3",
   "language": "python",
   "name": "python3"
  },
  "language_info": {
   "codemirror_mode": {
    "name": "ipython",
    "version": 3
   },
   "file_extension": ".py",
   "mimetype": "text/x-python",
   "name": "python",
   "nbconvert_exporter": "python",
   "pygments_lexer": "ipython3",
   "version": "3.7.3"
  }
 },
 "nbformat": 4,
 "nbformat_minor": 2
}
